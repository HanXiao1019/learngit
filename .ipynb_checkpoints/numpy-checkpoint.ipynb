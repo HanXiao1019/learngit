{
 "cells": [
  {
   "cell_type": "code",
   "execution_count": 20,
   "id": "38e23b67",
   "metadata": {},
   "outputs": [
    {
     "name": "stdout",
     "output_type": "stream",
     "text": [
      "[[1 2 3]\n",
      " [1 2 3]\n",
      " [1 2 3]\n",
      " [1 2 3]]\n",
      "[0 0 0 0]\n",
      "(4, 1)\n",
      "[[0]\n",
      " [0]\n",
      " [0]\n",
      " [0]]\n"
     ]
    }
   ],
   "source": [
    "import numpy as np\n",
    "array1 = np.array([\n",
    "    [1,2,3,4],\n",
    "    [1,2,3,4],\n",
    "    [1,2,3,4],\n",
    "    [1,2,3,4]\n",
    "])\n",
    "print(array1[:,:3])\n",
    "array2 = np.zeros_like(array1[:,1],dtype=int)\n",
    "print(array2)\n",
    "array2 = np.expand_dims(array2,axis=1)\n",
    "print(array2.shape)\n",
    "print(array2)\n"
   ]
  },
  {
   "cell_type": "code",
   "execution_count": 4,
   "id": "762f23bf",
   "metadata": {},
   "outputs": [
    {
     "ename": "TypeError",
     "evalue": "Cannot interpret '2' as a data type",
     "output_type": "error",
     "traceback": [
      "\u001b[0;31m---------------------------------------------------------------------------\u001b[0m",
      "\u001b[0;31mTypeError\u001b[0m                                 Traceback (most recent call last)",
      "\u001b[0;32m/tmp/ipykernel_18422/1457869533.py\u001b[0m in \u001b[0;36m<module>\u001b[0;34m\u001b[0m\n\u001b[0;32m----> 1\u001b[0;31m \u001b[0marr2\u001b[0m \u001b[0;34m=\u001b[0m \u001b[0mnp\u001b[0m\u001b[0;34m.\u001b[0m\u001b[0marray\u001b[0m\u001b[0;34m(\u001b[0m\u001b[0mrange\u001b[0m\u001b[0;34m(\u001b[0m\u001b[0;36m1\u001b[0m\u001b[0;34m,\u001b[0m\u001b[0;36m8\u001b[0m\u001b[0;34m)\u001b[0m\u001b[0;34m,\u001b[0m\u001b[0;34m(\u001b[0m\u001b[0;36m2\u001b[0m\u001b[0;34m,\u001b[0m\u001b[0;36m4\u001b[0m\u001b[0;34m)\u001b[0m\u001b[0;34m)\u001b[0m\u001b[0;34m\u001b[0m\u001b[0;34m\u001b[0m\u001b[0m\n\u001b[0m\u001b[1;32m      2\u001b[0m \u001b[0mprint\u001b[0m\u001b[0;34m(\u001b[0m\u001b[0marr2\u001b[0m\u001b[0;34m)\u001b[0m\u001b[0;34m\u001b[0m\u001b[0;34m\u001b[0m\u001b[0m\n",
      "\u001b[0;31mTypeError\u001b[0m: Cannot interpret '2' as a data type"
     ]
    }
   ],
   "source": [
    "arr2 = np.array(range(1,8),(2,4))\n",
    "print(arr2)"
   ]
  },
  {
   "cell_type": "code",
   "execution_count": 6,
   "id": "7eadba2b",
   "metadata": {},
   "outputs": [
    {
     "name": "stdout",
     "output_type": "stream",
     "text": [
      "[[0 1 1 6]\n",
      " [1 6 7 2]\n",
      " [0 9 6 6]]\n",
      "[[0 1 1 6]\n",
      " [1 6 7 2]\n",
      " [0 9 6 6]\n",
      " [0 0 0 1]]\n"
     ]
    }
   ],
   "source": [
    "import numpy as np\n",
    "a = np.random.randint(0,10,size=(3,4))\n",
    "print(a)\n",
    "a = np.vstack((a,[0,0,0,1]))\n",
    "print(a)"
   ]
  },
  {
   "cell_type": "code",
   "execution_count": 16,
   "id": "94a3d302",
   "metadata": {},
   "outputs": [
    {
     "name": "stdout",
     "output_type": "stream",
     "text": [
      "[[[8 4 1]\n",
      "  [6 5 2]]\n",
      "\n",
      " [[1 4 2]\n",
      "  [9 0 7]]\n",
      "\n",
      " [[7 0 7]\n",
      "  [7 4 5]]]\n",
      "[[6 5]\n",
      " [8 5]\n",
      " [6 7]]\n",
      "(3, 2, 1)\n",
      "[[[6]\n",
      "  [5]]\n",
      "\n",
      " [[8]\n",
      "  [5]]\n",
      "\n",
      " [[6]\n",
      "  [7]]]\n",
      "[[[8 4 1 6]\n",
      "  [6 5 2 5]]\n",
      "\n",
      " [[1 4 2 8]\n",
      "  [9 0 7 5]]\n",
      "\n",
      " [[7 0 7 6]\n",
      "  [7 4 5 7]]]\n"
     ]
    }
   ],
   "source": [
    "import numpy as np\n",
    "a = np.random.randint(0,10,size=(3,2,3))\n",
    "print(a)\n",
    "b = np.random.randint(0,10,size=(3,2))\n",
    "print(b)\n",
    "#expand dimensions\n",
    "b = np.expand_dims(b,axis=2)\n",
    "print(b.shape)\n",
    "print(b)\n",
    "#concatenate a and b\n",
    "c = np.concatenate((a,b),axis=2)\n",
    "print(c)\n",
    "#or "
   ]
  },
  {
   "cell_type": "code",
   "execution_count": 30,
   "id": "a106979f",
   "metadata": {},
   "outputs": [
    {
     "name": "stdout",
     "output_type": "stream",
     "text": [
      "[[5]]\n",
      "<class 'numpy.ndarray'>\n",
      "<class 'numpy.float32'>\n"
     ]
    }
   ],
   "source": [
    "import numpy as np\n",
    "a = np.random.randint(0,10,size=(1,1))\n",
    "print(a)\n",
    "a = np.squeeze(a)\n",
    "print(type(a))\n",
    "b = np.float32(a)\n",
    "print(type(b))"
   ]
  },
  {
   "cell_type": "code",
   "execution_count": 14,
   "id": "e8d6c388",
   "metadata": {},
   "outputs": [
    {
     "name": "stdout",
     "output_type": "stream",
     "text": [
      "(127770, 1)\n",
      "0.004902975\n",
      "[24.981855    1.8391209  -0.7627692   0.02619311]\n",
      "(524320,)\n"
     ]
    }
   ],
   "source": [
    "import numpy as np\n",
    "a = np.load(\"/sharedata/home/shared/hanxiao/kitti/dataset/sequences/02/residual_order_points_1/004660.npy\")\n",
    "print(a.shape)\n",
    "print(a[1110][0])\n",
    "b = np.load(\"/sharedata/home/shared/hanxiao/kitti/dataset/sequences/01/residual_points_1/000001.npy\")\n",
    "print(b[10][1000])\n",
    "c = np.fromfile(\"/sharedata/home/shared/hanxiao/kitti/dataset/sequences/00/residual_points_1/000001.npy\",dtype=np.float32)\n",
    "print(c.shape)"
   ]
  },
  {
   "cell_type": "code",
   "execution_count": 26,
   "id": "d6f9a1f4",
   "metadata": {},
   "outputs": [
    {
     "name": "stdout",
     "output_type": "stream",
     "text": [
      "[[3 5 3 8]\n",
      " [3 8 1 1]]\n",
      "[[3 5 3]\n",
      " [3 8 1]]\n",
      "(2, 3)\n",
      "[6.55743852 8.60232527]\n"
     ]
    }
   ],
   "source": [
    "import numpy as np\n",
    "a = np.random.randint(0,10,size=(2,4))\n",
    "print(a)\n",
    "b = a[:,:3]\n",
    "print(b)\n",
    "print(b.shape)\n",
    "depth = np.linalg.norm(b[:, :3].reshape((-1,3)), 2, axis=1)\n",
    "print(depth)"
   ]
  },
  {
   "cell_type": "code",
   "execution_count": 28,
   "id": "1eb85839",
   "metadata": {},
   "outputs": [
    {
     "name": "stdout",
     "output_type": "stream",
     "text": [
      "[[6 7 7]\n",
      " [4 1 3]\n",
      " [8 6 5]\n",
      " [8 2 6]\n",
      " [4 9 2]\n",
      " [2 5 3]\n",
      " [5 6 2]\n",
      " [7 2 8]\n",
      " [4 7 5]\n",
      " [2 7 7]\n",
      " [6 1 8]\n",
      " [2 9 2]\n",
      " [3 6 4]\n",
      " [4 2 9]\n",
      " [8 8 2]\n",
      " [0 7 3]\n",
      " [9 9 1]\n",
      " [0 9 5]\n",
      " [6 5 6]\n",
      " [6 8 4]]\n",
      "[11.5758369   5.09901951 11.18033989 10.19803903 10.04987562  6.164414\n",
      "  8.06225775 10.81665383  9.48683298 10.09950494 10.04987562  9.43398113\n",
      "  7.81024968 10.04987562 11.48912529  7.61577311 12.76714533 10.29563014\n",
      "  9.8488578  10.77032961]\n",
      "[[6 7 7]\n",
      " [8 6 5]\n",
      " [8 2 6]\n",
      " [4 9 2]\n",
      " [5 6 2]\n",
      " [7 2 8]\n",
      " [4 7 5]\n",
      " [2 7 7]\n",
      " [6 1 8]\n",
      " [2 9 2]\n",
      " [3 6 4]\n",
      " [4 2 9]\n",
      " [8 8 2]\n",
      " [0 7 3]\n",
      " [0 9 5]\n",
      " [6 5 6]\n",
      " [6 8 4]]\n"
     ]
    }
   ],
   "source": [
    "import numpy as np\n",
    "a = np.random.randint(0,10,size=(20,3))\n",
    "print(a)\n",
    "depth = np.linalg.norm(a[:, :3], 2, axis=1)\n",
    "print(depth)\n",
    "min_range = 7\n",
    "max_range = 12\n",
    "b = a[(depth > min_range) & (depth < max_range)]\n",
    "print(b)"
   ]
  },
  {
   "cell_type": "code",
   "execution_count": 35,
   "id": "1807297e",
   "metadata": {},
   "outputs": [
    {
     "ename": "IndexError",
     "evalue": "index 100 is out of bounds for axis 0 with size 64",
     "output_type": "error",
     "traceback": [
      "\u001b[0;31m---------------------------------------------------------------------------\u001b[0m",
      "\u001b[0;31mIndexError\u001b[0m                                Traceback (most recent call last)",
      "\u001b[0;32m/tmp/ipykernel_37513/2603274436.py\u001b[0m in \u001b[0;36m<module>\u001b[0;34m\u001b[0m\n\u001b[1;32m      1\u001b[0m \u001b[0;32mimport\u001b[0m \u001b[0mnumpy\u001b[0m \u001b[0;32mas\u001b[0m \u001b[0mnp\u001b[0m\u001b[0;34m\u001b[0m\u001b[0;34m\u001b[0m\u001b[0m\n\u001b[1;32m      2\u001b[0m \u001b[0ma\u001b[0m \u001b[0;34m=\u001b[0m \u001b[0mnp\u001b[0m\u001b[0;34m.\u001b[0m\u001b[0mempty\u001b[0m\u001b[0;34m(\u001b[0m\u001b[0;34m(\u001b[0m\u001b[0;36m64\u001b[0m\u001b[0;34m,\u001b[0m\u001b[0;36m2024\u001b[0m\u001b[0;34m,\u001b[0m\u001b[0;36m4\u001b[0m\u001b[0;34m)\u001b[0m\u001b[0;34m)\u001b[0m\u001b[0;34m\u001b[0m\u001b[0;34m\u001b[0m\u001b[0m\n\u001b[0;32m----> 3\u001b[0;31m \u001b[0mprint\u001b[0m\u001b[0;34m(\u001b[0m\u001b[0ma\u001b[0m\u001b[0;34m[\u001b[0m\u001b[0;36m100\u001b[0m\u001b[0;34m]\u001b[0m\u001b[0;34m[\u001b[0m\u001b[0;36m2000\u001b[0m\u001b[0;34m]\u001b[0m\u001b[0;34m[\u001b[0m\u001b[0;36m3\u001b[0m\u001b[0;34m]\u001b[0m\u001b[0;34m)\u001b[0m\u001b[0;34m\u001b[0m\u001b[0;34m\u001b[0m\u001b[0m\n\u001b[0m",
      "\u001b[0;31mIndexError\u001b[0m: index 100 is out of bounds for axis 0 with size 64"
     ]
    }
   ],
   "source": [
    "import numpy as np\n",
    "a = np.empty((64,2024,4))\n",
    "print(a[100][2000][3])"
   ]
  },
  {
   "cell_type": "code",
   "execution_count": null,
   "id": "5567fd09",
   "metadata": {},
   "outputs": [],
   "source": []
  }
 ],
 "metadata": {
  "kernelspec": {
   "display_name": "Python 3 (ipykernel)",
   "language": "python",
   "name": "python3"
  },
  "language_info": {
   "codemirror_mode": {
    "name": "ipython",
    "version": 3
   },
   "file_extension": ".py",
   "mimetype": "text/x-python",
   "name": "python",
   "nbconvert_exporter": "python",
   "pygments_lexer": "ipython3",
   "version": "3.8.12"
  }
 },
 "nbformat": 4,
 "nbformat_minor": 5
}
